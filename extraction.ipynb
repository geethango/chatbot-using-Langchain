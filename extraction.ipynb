{
 "cells": [
  {
   "cell_type": "code",
   "execution_count": null,
   "metadata": {},
   "outputs": [],
   "source": [
    "#from langchain.document_loaders import WebBaseLoader\n",
    "from langchain_community.document_loaders import WebBaseLoader\n",
    "from langchain.text_splitter import RecursiveCharacterTextSplitter\n",
    "#from sentence_transformers import SentenceTransformer\n",
    "#from langchain.embeddings.sentence_transformer import SentenceTransformerEmbeddings\n",
    "#from langchain_community.embeddings import SentenceTransformerEmbeddings\n",
    "from langchain_huggingface import HuggingFaceEmbeddings\n",
    "from langchain_community.vectorstores import Chroma"
   ]
  },
  {
   "cell_type": "code",
   "execution_count": null,
   "metadata": {},
   "outputs": [],
   "source": [
    "from bs4 import BeautifulSoup\n",
    "import requests\n",
    "from langchain_community.document_loaders import WebBaseLoader\n",
    "\n",
    "\n",
    "url = \"https://brainlox.com/courses/category/technical\"\n",
    "response = requests.get(url, headers={\"User-Agent\": \"Mozilla/5.0\"})\n",
    "soup = BeautifulSoup(response.text, \"html.parser\")\n",
    "\n",
    "\n",
    "links = []\n",
    "for a_tag in soup.find_all(\"a\", href=True):\n",
    "    link = a_tag[\"href\"]\n",
    "    if \"brainlox.com\" in link:  \n",
    "        links.append(link)\n",
    "\n",
    "print(f\"Found {len(links)} links.\")\n",
    "\n",
    "\n",
    "all_docs = []\n",
    "for link in links[:5]:  \n",
    "    try:\n",
    "        print(f\"Loading: {link}\")\n",
    "        loader = WebBaseLoader(link)\n",
    "        docs = loader.load()\n",
    "        all_docs.extend(docs)\n",
    "    except Exception as e:\n",
    "        print(f\"Failed to load {link}: {e}\")\n",
    "\n",
    "\n",
    "if all_docs:\n",
    "    print(\"\\nExtracted Content:\\n\", all_docs[0].page_content[:500])\n"
   ]
  },
  {
   "cell_type": "code",
   "execution_count": null,
   "metadata": {},
   "outputs": [],
   "source": [
    "from langchain.text_splitter import RecursiveCharacterTextSplitter\n",
    "text_splitter = RecursiveCharacterTextSplitter(\n",
    "    chunk_size = 600,\n",
    "    chunk_overlap = 50\n",
    ")\n",
    "\n",
    "\n",
    "splits = text_splitter.split_documents(docs)\n",
    "\n",
    "splits_text = [doc.page_content for doc in splits]\n"
   ]
  },
  {
   "cell_type": "code",
   "execution_count": null,
   "metadata": {},
   "outputs": [],
   "source": [
    "model = HuggingFaceEmbeddings(model_name=\"sentence-transformers/all-MiniLM-L6-v2\")"
   ]
  },
  {
   "cell_type": "code",
   "execution_count": null,
   "metadata": {},
   "outputs": [],
   "source": [
    "persist_directory = \"docs/chroma/\"\n",
    "\n",
    "\n",
    "vectordb = Chroma.from_texts(\n",
    "    texts=splits_text,\n",
    "    embedding=model,\n",
    "    persist_directory=persist_directory\n",
    ")\n",
    "\n",
    "\n",
    "print(\"Number of stored embeddings:\", vectordb._collection.count())"
   ]
  },
  {
   "cell_type": "code",
   "execution_count": null,
   "metadata": {},
   "outputs": [],
   "source": [
    "from langchain.chains import RetrievalQA\n",
    "from langchain_huggingface import HuggingFacePipeline\n",
    "from transformers import pipeline\n",
    "\n",
    "# ✅ Load a local model using Transformers\n",
    "#model_pipeline = pipeline(\"text-generation\", model=\"facebook/opt-1.3b\",max_new_tokens=200,)\n",
    "model_pipeline = pipeline(\"text-generation\", model=\"facebook/opt-350m\", max_new_tokens=200)\n",
    "\n",
    "\n",
    "# ✅ Define llm using HuggingFacePipeline\n",
    "llm = HuggingFacePipeline(pipeline=model_pipeline)\n",
    "\n",
    "qa_chain = RetrievalQA.from_chain_type(\n",
    "    llm,\n",
    "    retriever=vectordb.as_retriever(search_kwargs={\"k\": 2})\n",
    ")\n",
    "\n"
   ]
  },
  {
   "cell_type": "code",
   "execution_count": null,
   "metadata": {},
   "outputs": [],
   "source": [
    "\n",
    "question = \"What are major courses in python\"\n",
    "result = qa_chain.invoke({\"query\": question})\n",
    "\n",
    "print(result[\"result\"])"
   ]
  }
 ],
 "metadata": {
  "kernelspec": {
   "display_name": "Python 3",
   "language": "python",
   "name": "python3"
  },
  "language_info": {
   "codemirror_mode": {
    "name": "ipython",
    "version": 3
   },
   "file_extension": ".py",
   "mimetype": "text/x-python",
   "name": "python",
   "nbconvert_exporter": "python",
   "pygments_lexer": "ipython3",
   "version": "3.10.0"
  }
 },
 "nbformat": 4,
 "nbformat_minor": 2
}
